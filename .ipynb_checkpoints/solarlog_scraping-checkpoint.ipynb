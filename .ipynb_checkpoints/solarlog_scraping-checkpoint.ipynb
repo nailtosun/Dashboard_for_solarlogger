{
 "cells": [
  {
   "cell_type": "markdown",
   "metadata": {},
   "source": [
    "# Web scraping for Solar-log with Python3"
   ]
  },
  {
   "cell_type": "markdown",
   "metadata": {},
   "source": [
    "## Needed libraries"
   ]
  },
  {
   "cell_type": "code",
   "execution_count": 7,
   "metadata": {
    "collapsed": true
   },
   "outputs": [],
   "source": [
    "import requests"
   ]
  },
  {
   "cell_type": "markdown",
   "metadata": {},
   "source": [
    "If you don't have request module \n",
    "- For windows \n",
    "pip install requests\n",
    "- Unix (Linux, Mac OS)\n",
    "sudo pip install requests"
   ]
  },
  {
   "cell_type": "markdown",
   "metadata": {},
   "source": [
    "##  Request Methods"
   ]
  },
  {
   "cell_type": "markdown",
   "metadata": {},
   "source": [
    "We are gonna use POST method for scraping. request.post method takes 2 input parameters\n",
    "- 'url'\n",
    "- data (headers)\n",
    "\n",
    "### Finding right headers\n",
    "I collect some useful data headers for solar-log device. You can find cheat-sheet at following link. \n",
    "However if you want to search for other data you can use your browsers developer tools (F12). All transferred data package is in Network tab. You can find all headers at getjp packages. "
   ]
  },
  {
   "cell_type": "markdown",
   "metadata": {
    "collapsed": true
   },
   "source": [
    "![title](asfas.png)"
   ]
  },
  {
   "cell_type": "markdown",
   "metadata": {},
   "source": [
    "I chose total energy supplied by Ayasli GES data with following header"
   ]
  },
  {
   "cell_type": "code",
   "execution_count": 52,
   "metadata": {},
   "outputs": [],
   "source": [
    "headers = 'token=;preval=none;{\"801\":{\"130\":null,\"131\":null}}'"
   ]
  },
  {
   "cell_type": "markdown",
   "metadata": {},
   "source": [
    "### Requesting "
   ]
  },
  {
   "cell_type": "code",
   "execution_count": 53,
   "metadata": {},
   "outputs": [],
   "source": [
    "data_that_i_scraped = requests.post('http://144.122.167.229/getjp', data = headers)"
   ]
  },
  {
   "cell_type": "markdown",
   "metadata": {},
   "source": [
    "#### Checking the response\n",
    "data_that_i_scraped is a variable contains response\n",
    "- 200 Success\n",
    "- 404 Not found"
   ]
  },
  {
   "cell_type": "code",
   "execution_count": 54,
   "metadata": {},
   "outputs": [
    {
     "data": {
      "text/plain": [
       "<Response [200]>"
      ]
     },
     "execution_count": 54,
     "metadata": {},
     "output_type": "execute_result"
    }
   ],
   "source": [
    "data_that_i_scraped"
   ]
  },
  {
   "cell_type": "markdown",
   "metadata": {},
   "source": [
    "Transferred data in the form of JSON file. To convert into string i used .json() method"
   ]
  },
  {
   "cell_type": "code",
   "execution_count": 55,
   "metadata": {},
   "outputs": [],
   "source": [
    "data_formed_as_string =  data_that_i_scraped.json()"
   ]
  },
  {
   "cell_type": "code",
   "execution_count": 56,
   "metadata": {},
   "outputs": [
    {
     "data": {
      "text/plain": [
       "{'801': {'130': {'100': '82609.633',\n",
       "   '101': '38099.5404',\n",
       "   '102': '0.000',\n",
       "   '103': '0.0000',\n",
       "   '104': '0.0000',\n",
       "   '105': '0.000',\n",
       "   '106': '0.0000',\n",
       "   '107': '38099.5404',\n",
       "   '108': '0.0000',\n",
       "   '109': '38099.5404',\n",
       "   '110': '0.0000'},\n",
       "  '131': {'100': '173.777',\n",
       "   '101': '80.1459',\n",
       "   '102': '0.000',\n",
       "   '103': '0.0000',\n",
       "   '104': '0.0000',\n",
       "   '105': '0.000',\n",
       "   '106': '0.0000',\n",
       "   '107': '80.1459',\n",
       "   '108': '0.0000',\n",
       "   '109': '80.1459',\n",
       "   '110': '0.0000'}}}"
      ]
     },
     "execution_count": 56,
     "metadata": {},
     "output_type": "execute_result"
    }
   ],
   "source": [
    "data_formed_as_string"
   ]
  },
  {
   "cell_type": "code",
   "execution_count": 57,
   "metadata": {
    "collapsed": true
   },
   "outputs": [],
   "source": [
    "total_energy = data_formed_as_string['801']['130']['100']"
   ]
  },
  {
   "cell_type": "code",
   "execution_count": 58,
   "metadata": {},
   "outputs": [
    {
     "data": {
      "text/plain": [
       "'82609.633'"
      ]
     },
     "execution_count": 58,
     "metadata": {},
     "output_type": "execute_result"
    }
   ],
   "source": [
    "total_energy"
   ]
  }
 ],
 "metadata": {
  "kernelspec": {
   "display_name": "Python 3",
   "language": "python",
   "name": "python3"
  },
  "language_info": {
   "codemirror_mode": {
    "name": "ipython",
    "version": 3
   },
   "file_extension": ".py",
   "mimetype": "text/x-python",
   "name": "python",
   "nbconvert_exporter": "python",
   "pygments_lexer": "ipython3",
   "version": "3.6.3"
  }
 },
 "nbformat": 4,
 "nbformat_minor": 2
}
